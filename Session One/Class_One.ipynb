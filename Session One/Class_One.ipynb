{
 "cells": [
  {
   "cell_type": "markdown",
   "id": "0d409b4c-f75d-4f4d-b32f-2749a468dd8d",
   "metadata": {},
   "source": [
    "# 🐍 Introduction to Python\n",
    "\n",
    "## What is Python?\n",
    "\n",
    "Python is a **high-level**, **interpreted**, and **general-purpose** programming language known for its simplicity and readability. It was created by **Guido van Rossum** and released in **1991**.\n",
    "\n",
    "Python is great for:\n",
    "- Web development (using frameworks like Django, Flask)\n",
    "- Data analysis and visualization\n",
    "- Artificial Intelligence and Machine Learning\n",
    "- Scripting and automation\n",
    "- Game development, IoT, and more!\n",
    "\n",
    "---\n",
    "\n",
    "## Why Python?\n",
    "\n",
    "Before we dive in, let’s understand why Python is such a powerful tool:\n",
    "\n",
    "- Easy to learn and read 🧠  \n",
    "- General-purpose and flexible 🧰  \n",
    "- Widely used in Data Science, AI, Web Dev, Automation 🌐  \n",
    "- Has an amazing community and tons of free libraries 💾  \n",
    "\n",
    "Let’s begin our journey by setting up Python and checking our first code!\n",
    "\n",
    "---\n",
    "\n",
    "## 🔌 What Are Modules in Python?\n",
    "\n",
    "A **module** is a file containing Python code — functions, variables, and classes—that you can reuse in other programs.\n",
    "\n",
    "Python modules help you:\n",
    "- Keep your code organized\n",
    "- Avoid writing duplicate code\n",
    "- Make your projects more modular and readable\n",
    "\n",
    "You can import modules using the `import` keyword.\n",
    "\n",
    "```python\n",
    "import math\n",
    "```\n",
    "\n",
    "---\n",
    "\n",
    "## 🧰 Types of Modules in Python\n",
    "\n",
    "### 1. **Built-in Modules**\n",
    "These come with Python out of the box—no installation needed!\n",
    "\n",
    "Examples:\n",
    "- `math`: Mathematical functions\n",
    "- `datetime`: Date and time manipulation\n",
    "- `random`: Generate random numbers\n",
    "- `os`: Interact with the operating system"
   ]
  },
  {
   "cell_type": "code",
   "execution_count": null,
   "id": "0b94a60f-a072-451c-b14a-3b8c9901350f",
   "metadata": {},
   "outputs": [
    {
     "ename": "",
     "evalue": "",
     "output_type": "error",
     "traceback": [
      "\u001b[1;31mRunning cells with 'Python 3.12.6' requires the ipykernel package.\n",
      "\u001b[1;31m<a href='command:jupyter.createPythonEnvAndSelectController'>Create a Python Environment</a> with the required packages.\n",
      "\u001b[1;31mOr install 'ipykernel' using the command: 'c:/Users/91948/AppData/Local/Programs/Python/Python312/python.exe -m pip install ipykernel -U --user --force-reinstall'"
     ]
    }
   ],
   "source": [
    "import datetime\n",
    "print(datetime.datetime.now())"
   ]
  },
  {
   "cell_type": "markdown",
   "id": "79c31ba2-1866-44e1-9c3d-41f7eae35b2a",
   "metadata": {},
   "source": [
    "### 2. **External Modules**\n",
    "These are not included in Python by default. You install them using **pip**.\n",
    "\n",
    "Examples:\n",
    "- `numpy`: Numerical computing\n",
    "- `pandas`: Data analysis\n",
    "- `requests`: HTTP requests\n",
    "\n",
    "```bash\n",
    "pip install requests\n",
    "```"
   ]
  },
  {
   "cell_type": "code",
   "execution_count": 5,
   "id": "32c87bd9-968e-478c-b582-73d4996de8b5",
   "metadata": {},
   "outputs": [
    {
     "data": {
      "text/plain": [
       "200"
      ]
     },
     "execution_count": 5,
     "metadata": {},
     "output_type": "execute_result"
    }
   ],
   "source": [
    "import requests\n",
    "response = requests.get(\"https://example.com\")\n",
    "response.status_code"
   ]
  },
  {
   "cell_type": "markdown",
   "id": "67a06c34-7f7e-4ca1-a1a8-58b8b84c3501",
   "metadata": {},
   "source": [
    "\n",
    "### 3. **User-Defined Modules**\n",
    "You can write your own module by saving functions and variables in a `.py` file and importing it into other scripts.\n",
    "\n",
    "**Example:**\n",
    "File: `mymodule.py`\n",
    "```python\n",
    "def greet(name):\n",
    "    return f\"Hello, {name}!\"\n",
    "```\n",
    "\n",
    "In another file:\n",
    "```python\n",
    "import mymodule\n",
    "print(mymodule.greet(\"Alice\"))\n",
    "```\n",
    "\n",
    "---\n",
    "\n",
    "## 📦 What is pip?\n",
    "\n",
    "`pip` stands for **\"Pip Installs Packages\"**.\n",
    "\n",
    "It's the **Python package manager** used to install and manage external modules (also called packages or libraries).\n",
    "\n",
    "### 🔧 Common pip Commands:\n",
    "```bash\n",
    "pip install package-name        # Install a package\n",
    "pip uninstall package-name      # Remove a package\n",
    "pip list                        # Show installed packages\n",
    "pip show package-name           # Info about a package\n",
    "```\n",
    "\n",
    "> Pro tip: Use `pip freeze > requirements.txt` to save installed packages for project sharing!\n",
    "\n",
    "\n",
    "> Pro Tip: Use `pip install -r requirements.txt` to install all the packages listed in the `requirements.txt` file.\n"
   ]
  },
  {
   "cell_type": "code",
   "execution_count": 8,
   "id": "dfde80b6-f0df-4c4a-99bf-694a2e0a9d37",
   "metadata": {},
   "outputs": [
    {
     "name": "stdout",
     "output_type": "stream",
     "text": [
      "Hello, Python World!\n"
     ]
    }
   ],
   "source": [
    "# Your first spell in Python\n",
    "print(\"Hello, Python World!\")"
   ]
  },
  {
   "cell_type": "markdown",
   "id": "989041d9-9510-4baf-9601-e467f18125a5",
   "metadata": {},
   "source": [
    "## Chapter 1: Understanding the Language of Python\n",
    "\n",
    "Like any good language, Python has its own alphabet, symbols, and words with special meanings.\n",
    "\n",
    "### 1. Character Set:\n",
    "- Letters: a-z, A-Z\n",
    "- Digits: 0-9\n",
    "- Special Characters: + - * / = ! @ etc.\n",
    "\n",
    "### 2. Tokens:\n",
    "These are the smallest units in a Python program:\n",
    "- **Keywords**: reserved words (like `if`, `while`, `def`)\n",
    "- **Identifiers**: names you give to variables and functions\n",
    "- **Literals**: constant values like numbers or text\n",
    "- **Operators**: like `+`, `-`, `*`, `/`\n"
   ]
  },
  {
   "cell_type": "markdown",
   "id": "baaf28b9-7a0a-47ab-a5f5-34db8098c8f4",
   "metadata": {},
   "source": [
    "# Difference Between Keywords, Identifiers, and Literals\n",
    "\n",
    "## 🔑 Keywords\n",
    "- **Definition**: Reserved words in a programming language.\n",
    "- **Purpose**: Have special meaning and are used to perform specific operations or define structures.\n",
    "- **Examples (in Python)**:\n",
    "  - `if`, `else`, `while`, `for`, `def`, `class`, `return`, `import`\n",
    "\n",
    "> ❌ You cannot use keywords as names for variables or functions.\n",
    "\n",
    "---\n",
    "\n",
    "## 🆔 Identifiers\n",
    "- **Definition**: Names used to identify variables, functions, classes, modules, etc.\n",
    "- **Rules**:\n",
    "  - Can include letters (A-Z, a-z), digits (0-9), and underscores (_)\n",
    "  - Cannot start with a digit\n",
    "  - Cannot be a keyword\n",
    "- **Examples**:\n",
    "  - `myVar`, `calculate_sum`, `UserName`, `_temp`\n",
    "\n",
    "---\n",
    "\n",
    "## 🔢 Literals\n",
    "- **Definition**: Constant values assigned to variables or used directly in code.\n",
    "- **Types**:\n",
    "  - **Numeric literals**: `10`, `3.14`, `0xFF`\n",
    "  - **String literals**: `'Hello'`, `\"World\"`\n",
    "  - **Boolean literals**: `True`, `False`\n",
    "  - **None literal**: `None`\n",
    "\n",
    "**Example:**"
   ]
  },
  {
   "cell_type": "code",
   "execution_count": null,
   "id": "f647158e-e67c-42d8-b206-d97647b58a75",
   "metadata": {},
   "outputs": [],
   "source": [
    "# Using keywords, identifiers, literals\n",
    "customer_count = 50  # identifier = literal\n",
    "if customer_count > 30:  # 'if' is a keyword\n",
    "    print(\"Sales are doing well today!\")  # literal = string\n",
    "else:\n",
    "    print(\"Need to work on promotions!\")"
   ]
  },
  {
   "cell_type": "markdown",
   "id": "ded86d63-b2e3-48a7-89f4-fd292e740d36",
   "metadata": {},
   "source": [
    "## Identifiers: Naming Your Tools\n",
    "\n",
    "To name things in Python, follow these rules:\n",
    "- Can use letters, digits, underscore (`_`)\n",
    "- Cannot start with a digit\n",
    "- Cannot use keywords\n",
    "- Case-sensitive\n",
    "\n",
    "### Examples:\n",
    "- ✅ `store_name`, `sales2023`, `_helper`\n",
    "- ❌ `2store`, `class`, `@value`\n"
   ]
  },
  {
   "cell_type": "code",
   "execution_count": null,
   "id": "4cd82ba1-277a-48c4-ba0e-48651c69b4b9",
   "metadata": {},
   "outputs": [],
   "source": [
    "# Examples of valid identifiers\n",
    "store_name = \"Jack's Fabrics\"\n",
    "sales_2023 = 1240\n"
   ]
  },
  {
   "cell_type": "code",
   "execution_count": 18,
   "id": "d67b7133-25f3-4347-9d0a-67f6a1c0fe52",
   "metadata": {},
   "outputs": [],
   "source": [
    "# Invalid ones\n",
    "# 2store = \"Nope\"\n",
    "# class = \"Reserved Word\""
   ]
  },
  {
   "cell_type": "markdown",
   "id": "48c9c6f7-e58c-4fe7-9e39-8bbc7c865203",
   "metadata": {},
   "source": [
    "## Literals & Escape Characters\n",
    "\n",
    "A **literal** is a fixed value. Python supports:\n",
    "- **String**: `\"Hello\"`, `'World'`\n",
    "- **Number**: `100`, `3.14`\n",
    "- **Boolean**: `True`, `False`\n",
    "\n",
    "**Escape Characters** help include special characters in strings:\n",
    "- `\\n` → New line\n",
    "- `\\t` → Tab\n",
    "- `\\\\` → Backslash\n",
    "- `\\\"` → Quote inside string\n"
   ]
  },
  {
   "cell_type": "code",
   "execution_count": 20,
   "id": "e9b80abf-bdca-4d54-8962-6663d31e8531",
   "metadata": {},
   "outputs": [
    {
     "name": "stdout",
     "output_type": "stream",
     "text": [
      "Welcome to Jack's Store!\n",
      "Today's offer:\tBuy 1 Get 1 Free!\n",
      "He said, \"Python is awesome!\"\n"
     ]
    }
   ],
   "source": [
    "print(\"Welcome to Jack's Store!\\nToday's offer:\\tBuy 1 Get 1 Free!\")\n",
    "print(\"He said, \\\"Python is awesome!\\\"\")"
   ]
  },
  {
   "cell_type": "markdown",
   "id": "432816cd-da1c-4301-b398-c9d26f8031eb",
   "metadata": {},
   "source": [
    "## Comments: Whispering to Yourself\n",
    "\n",
    "Comments are used to explain your code.\n",
    "\n",
    "- Single-line: starts with `#`\n",
    "- Inline: `print(\"Hi\")  # this prints text`\n",
    "- Multiline: triple quotes `''' comment '''` or `\"\"\" comment \"\"\"`\n",
    "\n"
   ]
  },
  {
   "cell_type": "code",
   "execution_count": 22,
   "id": "ef57c145-1c47-4ff2-8c46-c529ccf70d51",
   "metadata": {},
   "outputs": [
    {
     "name": "stdout",
     "output_type": "stream",
     "text": [
      "Comment demo\n"
     ]
    },
    {
     "data": {
      "text/plain": [
       "'\\nThis is a multiline comment\\nspanning several lines\\n'"
      ]
     },
     "execution_count": 22,
     "metadata": {},
     "output_type": "execute_result"
    }
   ],
   "source": [
    "# This is a single-line comment\n",
    "print(\"Comment demo\")  # Inline comment\n",
    "\n",
    "\"\"\"\n",
    "This is a multiline comment\n",
    "spanning several lines\n",
    "\"\"\""
   ]
  },
  {
   "cell_type": "markdown",
   "id": "12aec9c7-4ecc-4e54-8754-d2d7003e0d08",
   "metadata": {},
   "source": [
    "---\n",
    "\n",
    "## 🤔 Why Does the Triple-Quoted Text Appear in the Output?\n",
    "\n",
    "- In **Python**, triple quotes (`'''` or `\"\"\"`) are used for:\n",
    "  1. ✅ **Docstrings** (to describe functions, classes, or modules)\n",
    "  2. ⚠️ **Multi-line string literals** (which is how they're treated in your code)\n",
    "\n",
    "- Since the triple-quoted string is not being used (e.g., not assigned to a variable or attached to a function), it's just a **standalone string literal**.\n",
    "\n",
    "- **Jupyter Notebooks** automatically display the **result of the last expression** — which, in this case, is that string.\n",
    "\n",
    "---\n",
    "\n",
    "## ✅ How to Properly Add Multi-line Comments\n",
    "\n",
    "### Option 1: Use `#` on each line\n",
    "\n"
   ]
  },
  {
   "cell_type": "code",
   "execution_count": null,
   "id": "bc69c7e8-3b49-46a3-b6b6-1db87552a7a0",
   "metadata": {},
   "outputs": [],
   "source": [
    "# This is a multi-line comment\n",
    "# that spans multiple lines\n",
    "# and does not show in output"
   ]
  },
  {
   "cell_type": "markdown",
   "id": "7b94b510-bed9-4d2a-9828-178bb17f0147",
   "metadata": {},
   "source": [
    "\n",
    "### Option 2: Suppress triple-quote output by assigning it\n"
   ]
  },
  {
   "cell_type": "code",
   "execution_count": 24,
   "id": "5561661a-20f9-4c69-8743-b87a975f6269",
   "metadata": {},
   "outputs": [],
   "source": [
    "_ = \"\"\"\n",
    "This is a 'comment' that won't be shown\n",
    "because it's assigned to a dummy variable\n",
    "\"\"\""
   ]
  },
  {
   "cell_type": "markdown",
   "id": "6949ca90-4e4b-4fbe-bbd5-7c82bbbe7a8c",
   "metadata": {},
   "source": [
    "## 🧠 **Chapter 2: Understanding Data Types and Variables in Python**\n",
    "\n",
    "### 🔤 **What Are Data Types?**\n",
    "\n",
    "Just like we can describe real-world things (like a name, a number, or a yes/no answer), Python has different types to describe values.\n",
    "\n",
    "# 🐍 Python Data Types\n",
    "\n",
    "Python data types are broadly categorized into two types:\n",
    "\n",
    "- **Primitive Data Types**\n",
    "- **Non-Primitive (or Complex) Data Types**\n",
    "\n",
    "---\n",
    "\n",
    "## 🔹 Primitive Data Types\n",
    "\n",
    "Primitive data types are the most basic types provided by Python. These are the building blocks for data manipulation.\n",
    "\n",
    "### 1. **Integers (`int`)**\n",
    "- Whole numbers (positive or negative)\n",
    "- Example: `10`, `-5`, `0`\n",
    "\n",
    "```python\n",
    "a = 10\n",
    "```\n",
    "\n",
    "### 2. **Floating Point Numbers (`float`)**\n",
    "- Decimal numbers\n",
    "- Example: `3.14`, `-0.001`, `2.0`\n",
    "\n",
    "```python\n",
    "pi = 3.14\n",
    "```\n",
    "\n",
    "### 3. **Boolean (`bool`)**\n",
    "- Represents truth values: `True` or `False`\n",
    "\n",
    "```python\n",
    "is_valid = True\n",
    "```\n",
    "\n",
    "### 4. **String (`str`)**\n",
    "- Sequence of characters\n",
    "- Can be enclosed in single, double, or triple quotes\n",
    "\n",
    "```python\n",
    "name = \"Alice\"\n",
    "```\n",
    "\n",
    "---\n",
    "\n",
    "## 🔸 Non-Primitive Data Types\n",
    "\n",
    "Non-primitive types are more complex structures that are built using primitive types.\n",
    "\n",
    "### 1. **List**\n",
    "- Ordered, mutable collection\n",
    "- Can contain mixed data types\n",
    "\n",
    "```python\n",
    "my_list = [1, 2, \"hello\", True]\n",
    "```\n",
    "\n",
    "### 2. **Tuple**\n",
    "- Ordered, immutable collection\n",
    "\n",
    "```python\n",
    "my_tuple = (1, 2, 3)\n",
    "```\n",
    "\n",
    "### 3. **Set**\n",
    "- Unordered collection of unique elements\n",
    "\n",
    "```python\n",
    "my_set = {1, 2, 3, 3}  # Output: {1, 2, 3}\n",
    "```\n",
    "\n",
    "### 4. **Dictionary (`dict`)**\n",
    "- Unordered collection of key-value pairs\n",
    "\n",
    "```python\n",
    "my_dict = {\"name\": \"Bob\", \"age\": 25}\n",
    "```\n",
    "\n",
    "## 🔄 What Does **Mutable** Mean?\n",
    "\n",
    "- **Mutable** means something that **can be changed or modified after it's created**.\n",
    "- **Immutable** means it **cannot be changed** after it's created.\n",
    "\n",
    "Think of it like:\n",
    "\n",
    "| Type      | Can it change? | Example                     |\n",
    "|-----------|----------------|-----------------------------|\n",
    "| Mutable   | ✅ Yes          | List (`[1, 2, 3]`)           |\n",
    "| Immutable | ❌ No           | Integer (`5`), String (`\"hi\"`) |\n",
    "\n",
    "---\n",
    "\n",
    "## 🔁 Summary Table\n",
    "\n",
    "| Category       | Type     | Mutable | Ordered | Example              |\n",
    "|----------------|----------|---------|---------|----------------------|\n",
    "| Primitive       | `int`    | ❌      | ✅      | `10`                 |\n",
    "| Primitive       | `float`  | ❌      | ✅      | `3.14`               |\n",
    "| Primitive       | `bool`   | ❌      | ✅      | `True`               |\n",
    "| Primitive       | `str`    | ❌      | ✅      | `\"Hello\"`            |\n",
    "| Non-Primitive   | `list`   | ✅      | ✅      | `[1, 2, 3]`          |\n",
    "| Non-Primitive   | `tuple`  | ❌      | ✅      | `(1, 2, 3)`          |\n",
    "| Non-Primitive   | `set`    | ✅      | ❌      | `{1, 2, 3}`          |\n",
    "| Non-Primitive   | `dict`   | ✅      | ❌ (as of <3.7) | `{\"a\": 1}`     |\n",
    "\n",
    "## 🧠 Why Are **Primitive Data Types Immutable** in Python?\n",
    "\n",
    "### 1. **Simplicity and Safety**\n",
    "Immutable objects are safer to use because they **can’t be accidentally modified**, especially when passed around in your code.\n",
    "\n",
    "```python\n",
    "a = 10\n",
    "b = a\n",
    "b = 20\n",
    "print(a)  # Still 10\n",
    "```\n",
    "\n",
    "> Changing `b` didn’t affect `a`, because `int` is immutable.\n",
    "\n",
    "---\n",
    "\n",
    "### 2. **Memory Efficiency (Interning)**\n",
    "Python **reuses** some immutable objects (like small integers and strings) to save memory.\n",
    "\n",
    "```python\n",
    "a = 5\n",
    "b = 5\n",
    "print(a is b)  # True — same memory reference\n",
    "```\n",
    "\n",
    "If they were mutable, this optimization would be risky because one change would affect all references.\n",
    "\n",
    "---\n",
    "\n",
    "### 3. **Hashability (Important for Dict Keys & Set Elements)**\n",
    "Immutable objects can be used as keys in dictionaries or elements in sets.\n",
    "\n",
    "```python\n",
    "my_dict = {\"name\": \"Alice\"}  # 'name' is a str (immutable)\n",
    "```\n",
    "\n",
    "Mutable objects can’t be used this way because their value might change, breaking the dictionary's structure.\n",
    "\n",
    "---\n",
    "\n",
    "## 🧪 Real-World Analogy\n",
    "\n",
    "Imagine:\n",
    "\n",
    "- **Immutable**: A printed receipt — you can't change the values after it's printed.\n",
    "- **Mutable**: A whiteboard — you can erase and change it anytime.\n",
    "\n",
    "---\n",
    "\n",
    "Python makes primitive types immutable for:\n",
    "- Stability\n",
    "- Performance\n",
    "- Safe memory handling\n"
   ]
  },
  {
   "cell_type": "code",
   "execution_count": 30,
   "id": "4ffdc056-cd3b-47a3-a636-e9f278e13ec9",
   "metadata": {},
   "outputs": [],
   "source": [
    "# Here's Alex exploring basic data types\n",
    "x = 10             \n",
    "price = 19.99      \n",
    "name = \"Alex\"     \n",
    "is_active = True"
   ]
  },
  {
   "cell_type": "code",
   "execution_count": 32,
   "id": "b7aaab56-5393-4b28-a1f0-bb83411fba64",
   "metadata": {},
   "outputs": [
    {
     "name": "stdout",
     "output_type": "stream",
     "text": [
      "<class 'int'>\n",
      "<class 'float'>\n",
      "<class 'str'>\n",
      "<class 'bool'>\n"
     ]
    }
   ],
   "source": [
    "print(type(x))\n",
    "print(type(price))\n",
    "print(type(name))\n",
    "print(type(is_active))"
   ]
  },
  {
   "cell_type": "markdown",
   "id": "4c78cdb6-fdaf-486d-8cef-c87a6649772b",
   "metadata": {},
   "source": [
    "### 📦 **Variables in Python**\n",
    "\n",
    "I just like how simple python makes variable creation.\n",
    "\n",
    "🧑‍🏫 *In languages like Java or C++, you'd have to define types before assigning them. Not in Python!*\n"
   ]
  },
  {
   "cell_type": "code",
   "execution_count": null,
   "id": "bde9e529-60d4-471c-87e8-d922f04f9eb4",
   "metadata": {},
   "outputs": [],
   "source": [
    "# Just assign a value and Python figures out the type\n",
    "score = 85\n",
    "greeting = \"Hello\"\n",
    "print(type(score))\n",
    "print(type(greeting))"
   ]
  },
  {
   "cell_type": "markdown",
   "id": "779c7eeb-1ad5-4c69-9d41-a431172bd609",
   "metadata": {},
   "source": [
    "Python manages memory dynamically and even allows reassigning values of a different type to the same variable!"
   ]
  },
  {
   "cell_type": "code",
   "execution_count": null,
   "id": "e30c2fca-01e1-4b23-a213-a49aed06b9ac",
   "metadata": {},
   "outputs": [],
   "source": [
    "score = \"Eighty Five\"\n",
    "print(type(score))"
   ]
  },
  {
   "cell_type": "markdown",
   "id": "fba3754b-e044-4703-a619-310fa571b766",
   "metadata": {},
   "source": [
    "### 🔢 **Numbers: Integers and Floats**\n"
   ]
  },
  {
   "cell_type": "code",
   "execution_count": 34,
   "id": "99146299-253f-41d3-bfb7-8625d3745e6f",
   "metadata": {},
   "outputs": [],
   "source": [
    "a = 100        # Integer\n",
    "b = -25        # Negative Integer\n",
    "c = 3.14159    # Float"
   ]
  },
  {
   "cell_type": "code",
   "execution_count": 36,
   "id": "4feb3927-12e2-40bf-976f-84e5128f34e1",
   "metadata": {},
   "outputs": [
    {
     "name": "stdout",
     "output_type": "stream",
     "text": [
      "3.14\n"
     ]
    }
   ],
   "source": [
    "rounded_pi = round(c, 2)  # 3.14\n",
    "print(rounded_pi)"
   ]
  },
  {
   "cell_type": "markdown",
   "id": "5893603f-2d6f-4d11-b519-96e444f3a2af",
   "metadata": {},
   "source": [
    "# 🧮 Integer Division vs Float Division\n"
   ]
  },
  {
   "cell_type": "code",
   "execution_count": 38,
   "id": "7512f949-b41a-4bce-9f0a-4716b544348a",
   "metadata": {},
   "outputs": [
    {
     "name": "stdout",
     "output_type": "stream",
     "text": [
      "2.0\n"
     ]
    }
   ],
   "source": [
    "print(10 / 5)"
   ]
  },
  {
   "cell_type": "code",
   "execution_count": 40,
   "id": "5a596bdf-6402-4f52-baac-7f1db0e89d08",
   "metadata": {},
   "outputs": [
    {
     "name": "stdout",
     "output_type": "stream",
     "text": [
      "3\n"
     ]
    }
   ],
   "source": [
    "print(10 // 3) #(floor division)"
   ]
  },
  {
   "cell_type": "markdown",
   "id": "6e4af3a2-7f4c-408e-af29-ec421837ea73",
   "metadata": {},
   "source": [
    "# ✍️ Strings: More Than Just Words"
   ]
  },
  {
   "cell_type": "code",
   "execution_count": 42,
   "id": "4cdea1fd-1b7c-4140-b345-952d3b0eeca8",
   "metadata": {},
   "outputs": [],
   "source": [
    "word1 = 'Panem'\n",
    "word2 = \"Canal\"\n",
    "sentence = \"Panama Canal\""
   ]
  },
  {
   "cell_type": "code",
   "execution_count": 44,
   "id": "43773424-b0c1-4716-8be7-52972c650b02",
   "metadata": {},
   "outputs": [
    {
     "data": {
      "text/plain": [
       "'Panem Canal'"
      ]
     },
     "execution_count": 44,
     "metadata": {},
     "output_type": "execute_result"
    }
   ],
   "source": [
    "name = word1 + \" \" + word2\n",
    "name"
   ]
  },
  {
   "cell_type": "code",
   "execution_count": 46,
   "id": "077b0c0b-91d5-48f8-9d1c-055f9110d6e6",
   "metadata": {},
   "outputs": [
    {
     "data": {
      "text/plain": [
       "11"
      ]
     },
     "execution_count": 46,
     "metadata": {},
     "output_type": "execute_result"
    }
   ],
   "source": [
    "len(name)"
   ]
  },
  {
   "cell_type": "markdown",
   "id": "7a75b8f4-cab6-4902-8e18-8c82e17dfa07",
   "metadata": {},
   "source": [
    "# 🎯 Indexing and Slicing"
   ]
  },
  {
   "cell_type": "code",
   "execution_count": 48,
   "id": "935e675a-9e50-46c9-8023-a32de08a615e",
   "metadata": {},
   "outputs": [
    {
     "data": {
      "text/plain": [
       "'P'"
      ]
     },
     "execution_count": 48,
     "metadata": {},
     "output_type": "execute_result"
    }
   ],
   "source": [
    "name[0]"
   ]
  },
  {
   "cell_type": "code",
   "execution_count": null,
   "id": "91fbe3bf-98a0-4589-b8b9-7998f1fc7718",
   "metadata": {},
   "outputs": [],
   "source": [
    "name[0:6]"
   ]
  },
  {
   "cell_type": "code",
   "execution_count": 50,
   "id": "af56808e-e83c-4271-8c68-cfa3041006b0",
   "metadata": {},
   "outputs": [
    {
     "name": "stdout",
     "output_type": "stream",
     "text": [
      "True <class 'bool'>\n"
     ]
    }
   ],
   "source": [
    "# ❓ Booleans\n",
    "is_numeric = True\n",
    "print(is_numeric, type(is_numeric))"
   ]
  },
  {
   "cell_type": "code",
   "execution_count": 52,
   "id": "7db7f79f-4a7b-4563-9b64-90f1928e1607",
   "metadata": {},
   "outputs": [
    {
     "name": "stdout",
     "output_type": "stream",
     "text": [
      "True\n"
     ]
    }
   ],
   "source": [
    "greater_than_50 = 75 > 50\n",
    "print(greater_than_50)"
   ]
  },
  {
   "cell_type": "code",
   "execution_count": 54,
   "id": "deef59d9-1d65-45be-9375-e8b910fe208a",
   "metadata": {},
   "outputs": [
    {
     "data": {
      "text/plain": [
       "100.0"
      ]
     },
     "execution_count": 54,
     "metadata": {},
     "output_type": "execute_result"
    }
   ],
   "source": [
    "# 🔄 Type Conversion\n",
    "x = \"100\"\n",
    "y = float(x)\n",
    "y"
   ]
  },
  {
   "cell_type": "code",
   "execution_count": 56,
   "id": "12a3ccc2-80c7-4e84-a9e0-6ccc4205fc71",
   "metadata": {},
   "outputs": [
    {
     "data": {
      "text/plain": [
       "7"
      ]
     },
     "execution_count": 56,
     "metadata": {},
     "output_type": "execute_result"
    }
   ],
   "source": [
    "z = int(float(\"7.9\"))\n",
    "z"
   ]
  },
  {
   "cell_type": "code",
   "execution_count": 60,
   "id": "4f210e0a-10dd-4690-88d5-e617c2e0a300",
   "metadata": {},
   "outputs": [],
   "source": [
    "# Watch out:\n",
    "# int(\"abc\")"
   ]
  },
  {
   "cell_type": "markdown",
   "id": "89840a64-f5f3-43c3-b82e-0d877746459e",
   "metadata": {},
   "source": [
    "# 🌫️ What’s None?"
   ]
  },
  {
   "cell_type": "code",
   "execution_count": 62,
   "id": "52bb8815-7488-454f-902f-70e23283a886",
   "metadata": {},
   "outputs": [
    {
     "name": "stdout",
     "output_type": "stream",
     "text": [
      "None <class 'NoneType'>\n"
     ]
    }
   ],
   "source": [
    "temp = None\n",
    "print(temp, type(temp))"
   ]
  },
  {
   "cell_type": "code",
   "execution_count": 64,
   "id": "d1fc173a-abc8-4e3f-82cc-48f1605da77f",
   "metadata": {},
   "outputs": [
    {
     "name": "stdout",
     "output_type": "stream",
     "text": [
      "nan\n",
      "True\n"
     ]
    }
   ],
   "source": [
    "from math import isnan\n",
    "import math\n",
    "\n",
    "missing_value = float('nan')\n",
    "print(missing_value)\n",
    "print(isnan(missing_value))"
   ]
  },
  {
   "cell_type": "markdown",
   "id": "1d47d056-701e-486e-b9cf-83de5d2e1150",
   "metadata": {},
   "source": [
    "## 🔹 `NoneType`\n",
    "- **`None`** is the **only value** of the **`NoneType`**.\n",
    "- Represents **absence of a value** or **\"nothing\"**.\n",
    "- Often used as a **default return** when no value is explicitly returned from a function.\n",
    "\n",
    "\n",
    "### Common Uses:\n",
    "- Optional function return\n",
    "- Placeholder for missing data\n",
    "- Default argument value in functions\n",
    "\n",
    "---\n",
    "\n",
    "## 🔹 `NaN` (Not a Number)\n",
    "- Stands for **\"Not a Number\"**\n",
    "- A special **floating-point value** used to represent:\n",
    "  - Missing or undefined numerical data\n",
    "  - Invalid mathematical results (like `0/0`)\n",
    "- Comes from `float('nan')` or some data libraries like NumPy or pandas.\n",
    "\n",
    "### Key Properties:\n",
    "- Type: `<class 'float'>`\n",
    "- `NaN != NaN` (strange but true!)\n",
    "- Use `math.isnan()` or `numpy.isnan()` to check for it\n",
    "\n",
    "---\n",
    "\n",
    "# 🎤 Getting User Input\n"
   ]
  },
  {
   "cell_type": "code",
   "execution_count": null,
   "id": "7e1acd8d-8901-4b92-9729-f32dfaf02761",
   "metadata": {},
   "outputs": [],
   "source": [
    "name = input(\"What is your name? \")\n",
    "age = int(input(\"What is your age? \"))\n",
    "print(f\"{name} is {age} years old.\")"
   ]
  },
  {
   "cell_type": "markdown",
   "id": "e8f4d7c8-59c1-4b5b-98b7-a604eb83d64c",
   "metadata": {},
   "source": [
    "# 🖨️ Printing and Formatting Output"
   ]
  },
  {
   "cell_type": "code",
   "execution_count": 66,
   "id": "b0fbc7a0-ef03-4e90-9482-a24a2c5e9821",
   "metadata": {},
   "outputs": [
    {
     "name": "stdout",
     "output_type": "stream",
     "text": [
      "Hello Alex you are 23 years old.\n",
      "Hello Alex you are 23 years old.\n",
      "Hello Alex, you are 23 years old.\n"
     ]
    }
   ],
   "source": [
    "name = \"Alex\"\n",
    "age = 23\n",
    "\n",
    "print(\"Hello\", name, \"you are\", age, \"years old.\")  # Using commas\n",
    "print(\"Hello {} you are {} years old.\".format(name, age))  # Using format()\n",
    "print(f\"Hello {name}, you are {age} years old.\")  # Using f-string (Python 3.6+)"
   ]
  },
  {
   "cell_type": "markdown",
   "id": "393447aa-d0a8-443e-b559-fed2f2973fca",
   "metadata": {},
   "source": [
    "## Separator and end:"
   ]
  },
  {
   "cell_type": "code",
   "execution_count": 68,
   "id": "f26b57f6-9a27-47e0-9937-4f159c1f4874",
   "metadata": {},
   "outputs": [
    {
     "name": "stdout",
     "output_type": "stream",
     "text": [
      "Python$is$fun!\n"
     ]
    }
   ],
   "source": [
    "print(\"Python\", \"is\", \"fun\", sep=\"$\", end=\"!\\n\")"
   ]
  },
  {
   "cell_type": "markdown",
   "id": "5971b2e9-932e-448b-b1e6-3046b388d843",
   "metadata": {},
   "source": [
    "# 🧮 Operators in Python"
   ]
  },
  {
   "cell_type": "code",
   "execution_count": 70,
   "id": "3b455173-f7d8-4ae3-a6f4-3765d0c2e02a",
   "metadata": {},
   "outputs": [
    {
     "name": "stdout",
     "output_type": "stream",
     "text": [
      "8\n",
      "2\n",
      "15\n",
      "1.6666666666666667\n",
      "1\n",
      "2\n",
      "125\n",
      "\n",
      "True\n",
      "False\n",
      "False\n",
      "True\n",
      "\n",
      "True\n",
      "False\n",
      "True\n",
      "\n",
      "True\n",
      "True\n",
      "\n"
     ]
    }
   ],
   "source": [
    "x, y = 5, 3\n",
    "print(x + y, x - y, x * y, x / y, x // y, x % y, x ** y,sep=\"\\n\", end=\"\\n\\n\")\n",
    "print(x > y, x < y, x == y, x != y,sep=\"\\n\", end=\"\\n\\n\")\n",
    "print(x > 0 and y > 0)\n",
    "print(x is y, x is not y,sep=\"\\n\", end=\"\\n\\n\")\n",
    "print('a' in 'apple', 'z' not in 'apple',sep=\"\\n\", end=\"\\n\\n\")"
   ]
  },
  {
   "cell_type": "markdown",
   "id": "191d82f2-f8f1-46c5-99f3-13188cf5adc9",
   "metadata": {},
   "source": [
    "## ➕ Arithmetic Operators\n",
    "| Expression   | Result | Meaning                |\n",
    "|--------------|--------|------------------------|\n",
    "| `x + y`      | `8`    | Addition               |\n",
    "| `x - y`      | `2`    | Subtraction            |\n",
    "| `x * y`      | `15`   | Multiplication         |\n",
    "| `x / y`      | `1.67` | Division (float)       |\n",
    "| `x // y`     | `1`    | Floor division (int)   |\n",
    "| `x % y`      | `2`    | Modulo (remainder)     |\n",
    "| `x ** y`     | `125`  | Exponentiation (power) |\n",
    "\n",
    "---\n",
    "\n",
    "## ⚖️ Comparison Operators\n",
    "| Expression    | Result | Meaning                |\n",
    "|---------------|--------|------------------------|\n",
    "| `x > y`       | `True` | Greater than           |\n",
    "| `x < y`       | `False`| Less than              |\n",
    "| `x == y`      | `False`| Equal to               |\n",
    "| `x != y`      | `True` | Not equal to           |\n",
    "\n",
    "---\n",
    "\n",
    "## 🔗 Logical Operators\n",
    "| Expression              | Result | Meaning                     |\n",
    "|--------------------------|--------|-----------------------------|\n",
    "| `x > 0 and y > 0`        | `True` | Both conditions are `True` |\n",
    "\n",
    "---\n",
    "\n",
    "## 🆔 Identity Operators\n",
    "| Expression         | Result | Meaning                      |\n",
    "|--------------------|--------|------------------------------|\n",
    "| `x is y`           | `False`| Checks if `x` and `y` are the same object |\n",
    "| `x is not y`       | `True` | They are different objects   |\n",
    "\n",
    "---\n",
    "\n",
    "## 🔤 Membership Operators\n",
    "| Expression                  | Result | Meaning                   |\n",
    "|-----------------------------|--------|---------------------------|\n",
    "| `'a' in 'apple'`            | `True` | `'a'` is in the string     |\n",
    "| `'z' not in 'apple'`        | `True` | `'z'` is **not** in the string |\n",
    "\n",
    "---\n",
    "\n",
    "## 🔲 Bitwise Operators\n",
    "| Expression          | Result  | Meaning                       |\n",
    "|---------------------|---------|-------------------------------|\n",
    "| `x & y`            | `1`     | Bitwise AND                   |\n",
    "| `x \\| y`            | `7`     | Bitwise OR                    |\n",
    "| `x ^ y`            | `6`     | Bitwise XOR                   |\n",
    "| `~x`               | `-6`    | Bitwise NOT (complement)      |\n",
    "| `x << 1`           | `10`    | Left shift                    |\n",
    "| `x >> 1`           | `2`     | Right shift                   |\n",
    "\n",
    "---\n",
    "\n",
    "## 📝 Assignment Operators\n",
    "| Expression          | Result | Meaning                        |\n",
    "|---------------------|--------|--------------------------------|\n",
    "| `x = y`             | `x` = 3 | Assign `y` to `x`              |\n",
    "| `x += y`            | `x` = 8 | `x = x + y`                    |\n",
    "| `x -= y`            | `x` = 2 | `x = x - y`                    |\n",
    "| `x *= y`            | `x` = 15| `x = x * y`                    |\n",
    "| `x /= y`            | `x` = 1.67 | `x = x / y`               |\n",
    "| `x //= y`           | `x` = 1 | `x = x // y`                  |\n",
    "| `x %= y`            | `x` = 2 | `x = x % y`                   |\n",
    "| `x **= y`           | `x` = 125| `x = x ** y`                  |\n",
    "| `x &= y`            | `x` = 1 | `x = x & y`                   |\n",
    "| `x \\|= y`            | `x` = 7 | `x = x \\| y`                   |\n",
    "| `x ^= y`            | `x` = 6 | `x = x ^ y`                   |\n",
    "| `x <<= 1`           | `x` = 10| `x = x << 1`                  |\n",
    "| `x >>= 1`           | `x` = 2 | `x = x >> 1`                  |\n",
    "\n",
    "---\n",
    "\n",
    "## 📊 Summary Table of All Operators\n",
    "\n",
    "| Type               | Operators                                                  |\n",
    "|--------------------|------------------------------------------------------------|\n",
    "| **Arithmetic**      | `+`, `-`, `*`, `/`, `//`, `%`, `**`                        |\n",
    "| **Comparison**      | `>`, `<`, `==`, `!=`                                       |\n",
    "| **Logical**         | `and`, `or`, `not`                                         |\n",
    "| **Identity**        | `is`, `is not`                                             |\n",
    "| **Membership**      | `in`, `not in`                                             |\n",
    "| **Bitwise**         | `&`, `^`, `~`, `<<`, `>>` ,`\\|`                            |\n",
    "| **Assignment**      | `=`, `+=`, `-=`, `*=`, `/=`, `//=`, `%=` , `**=`, `&=`, `\\|=`, `^=`, `<<=`, `>>=` |\n"
   ]
  },
  {
   "cell_type": "markdown",
   "id": "3f575073-2d09-4bd5-966d-8a3d7305ae46",
   "metadata": {},
   "source": [
    "## 🧠 Story: A Day in Everyone's Life – Decisions, Decisions...\n",
    "\n",
    "Every morning, even before we leave the house, we've already made a dozen decisions.  \n",
    "Tea or coffee? Shave or not? Blue shirt or beige? Sweater or no sweater?\n",
    "\n",
    "All these choices can be boiled down to simple **true or false** questions. That’s exactly how computers think too.\n",
    "\n",
    "\n",
    "## 🔍 Part 1: Conditional Statements – Making Decisions\n"
   ]
  },
  {
   "cell_type": "code",
   "execution_count": 73,
   "id": "7aeaac71-5d93-4888-b36d-72e5c4a642c3",
   "metadata": {},
   "outputs": [
    {
     "name": "stdout",
     "output_type": "stream",
     "text": [
      "Wear a sweater\n"
     ]
    }
   ],
   "source": [
    "weather_is_cold = True\n",
    "\n",
    "if weather_is_cold:\n",
    "    print(\"Wear a sweater\")\n",
    "else:\n",
    "    print(\"No need for a sweater\")\n"
   ]
  },
  {
   "cell_type": "markdown",
   "id": "26d7b482-64ea-4ce1-8fab-6af2f736d5ec",
   "metadata": {},
   "source": [
    "🧵 **Explanation**:\n",
    "- `if` checks a condition.\n",
    "- If `True`, it runs the indented block under `if`.\n",
    "- If `False`, it skips to `else`.\n"
   ]
  },
  {
   "cell_type": "markdown",
   "id": "a23ce732-a118-49d5-98b9-07505f83cee5",
   "metadata": {},
   "source": [
    "## 🧪 Let’s simulate more decisions:\n",
    "\n",
    "I decide whether to have cook breakfast or have outside based on how much time i have."
   ]
  },
  {
   "cell_type": "code",
   "execution_count": 75,
   "id": "e7c7460e-2f62-4826-8280-5d06d4acbdab",
   "metadata": {},
   "outputs": [
    {
     "name": "stdout",
     "output_type": "stream",
     "text": [
      "Grab on my way\n"
     ]
    }
   ],
   "source": [
    "time_for_breakfast = 10  # Time i have before i leave\n",
    "\n",
    "if time_for_breakfast >= 15:\n",
    "    print(\"Cook myself\")\n",
    "else:\n",
    "    print(\"Grab on my way\")"
   ]
  },
  {
   "cell_type": "markdown",
   "id": "a0d5abc9-adc9-4a42-ac3d-6e6bc71692ac",
   "metadata": {},
   "source": [
    "## 🔁 Part 2: Loops – Repeating Actions\n",
    "\n",
    "Imagine John’s fitness coach tells him:\n",
    "\n",
    "> Walk around the park **8 times**.\n",
    "\n",
    "This is a **definite loop** – we know the number of repetitions.\n"
   ]
  },
  {
   "cell_type": "code",
   "execution_count": null,
   "id": "fbd4346c-b630-4480-93b0-97398d0db7e6",
   "metadata": {},
   "outputs": [],
   "source": [
    "for round in range(1, 9):\n",
    "    print(f\"Round {round}: Walking...\")\n",
    "print(\"Done with all 8 rounds!\")\n"
   ]
  },
  {
   "cell_type": "markdown",
   "id": "b1258ea8-e365-48fc-81d8-ff3b84486212",
   "metadata": {},
   "source": [
    "\n",
    "Now imagine the coach says:\n",
    "\n",
    "> Walk **until** you reach the ice cream truck.\n",
    "\n",
    "That’s an **indefinite loop** – we don’t know how long it’ll take.\n",
    "\n"
   ]
  },
  {
   "cell_type": "code",
   "execution_count": null,
   "id": "2eceef9d-fcb8-4f8c-b33a-ed7c84b1c79f",
   "metadata": {},
   "outputs": [],
   "source": [
    "truck_spotted = False\n",
    "steps = 0\n",
    "\n",
    "while not truck_spotted:\n",
    "    steps += 1\n",
    "    print(f\"Step {steps}: Still walking...\")\n",
    "    if steps == 7:\n",
    "        truck_spotted = True\n",
    "\n",
    "print(\"Ice cream truck found! 🍦\")\n"
   ]
  },
  {
   "cell_type": "markdown",
   "id": "5788a1d4-a0dc-4895-a4dc-717511e9f889",
   "metadata": {},
   "source": [
    "# 🔁 Python `for` Loop: Different Ways to Use It\n",
    "\n",
    "The `for` loop in Python is super versatile and lets you iterate over sequences like lists, strings, tuples, dictionaries, and more.\n",
    "\n",
    "---\n",
    "\n",
    "## ✅ Basic Loop Over a List"
   ]
  },
  {
   "cell_type": "code",
   "execution_count": 80,
   "id": "6a43be8a-71e1-4882-b1a3-27bbaa847bc0",
   "metadata": {},
   "outputs": [
    {
     "name": "stdout",
     "output_type": "stream",
     "text": [
      "apple\n",
      "banana\n",
      "cherry\n"
     ]
    }
   ],
   "source": [
    "fruits = [\"apple\", \"banana\", \"cherry\"]\n",
    "for fruit in fruits:\n",
    "    print(fruit)"
   ]
  },
  {
   "cell_type": "markdown",
   "id": "4b464a4f-f823-45a7-8b40-1c0ea7ff3e55",
   "metadata": {},
   "source": [
    "## 🔢 Loop with `range()`"
   ]
  },
  {
   "cell_type": "code",
   "execution_count": 85,
   "id": "c3ce5f38-0241-4a90-b76b-167dd5c38b97",
   "metadata": {},
   "outputs": [
    {
     "name": "stdout",
     "output_type": "stream",
     "text": [
      "1\n",
      "3\n",
      "5\n",
      "7\n",
      "9\n"
     ]
    }
   ],
   "source": [
    "for i in range(1, 10, 2):\n",
    "    print(i)"
   ]
  },
  {
   "cell_type": "markdown",
   "id": "73b3855c-1b4c-49bd-9044-1868e1ff25fe",
   "metadata": {},
   "source": [
    "| Method      | Resulting Range                  |\n",
    "|:------------------|:------------------------------|\n",
    "| `range(n)`      | 0 to n-1                    |\n",
    "| `range(2, 6)`    | 2 to 5                       |\n",
    "| `range(1, 10, 2)`| 1 to 9 with step of 2        |\n",
    "\n",
    "---\n",
    "\n",
    "## 🔁 Loop Over a String"
   ]
  },
  {
   "cell_type": "code",
   "execution_count": 87,
   "id": "a46ba23a-3de2-45ab-9de5-90535e7acf2a",
   "metadata": {},
   "outputs": [
    {
     "name": "stdout",
     "output_type": "stream",
     "text": [
      "h\n",
      "e\n",
      "l\n",
      "l\n",
      "o\n"
     ]
    }
   ],
   "source": [
    "for letter in \"hello\":\n",
    "    print(letter)"
   ]
  },
  {
   "cell_type": "markdown",
   "id": "16ee6741-288a-46c7-8201-290b05b6cb99",
   "metadata": {},
   "source": [
    "## 🎯 Loop with `enumerate()`: Get Index and Value"
   ]
  },
  {
   "cell_type": "code",
   "execution_count": 90,
   "id": "18bcb915-2bc7-426f-938b-2002d25c2eea",
   "metadata": {},
   "outputs": [
    {
     "name": "stdout",
     "output_type": "stream",
     "text": [
      "0 red\n",
      "1 green\n",
      "2 blue\n"
     ]
    }
   ],
   "source": [
    "colors = [\"red\", \"green\", \"blue\"]\n",
    "for index, color in enumerate(colors):\n",
    "    print(index, color)"
   ]
  },
  {
   "cell_type": "markdown",
   "id": "a5b4e609-1da1-4e5f-94ec-358e125512f5",
   "metadata": {},
   "source": [
    "## 🔑 Loop Over a Dictionary"
   ]
  },
  {
   "cell_type": "code",
   "execution_count": 92,
   "id": "f3319855-27d7-4f29-a6b5-7b3ae23c8870",
   "metadata": {},
   "outputs": [
    {
     "name": "stdout",
     "output_type": "stream",
     "text": [
      "name Alice\n",
      "age 25\n"
     ]
    }
   ],
   "source": [
    "person = {\"name\": \"Alice\", \"age\": 25}\n",
    "for key in person:\n",
    "    print(key, person[key])"
   ]
  },
  {
   "cell_type": "code",
   "execution_count": 94,
   "id": "7f8ab41b-b8d3-4bf2-8a4e-24f6931e414c",
   "metadata": {},
   "outputs": [
    {
     "name": "stdout",
     "output_type": "stream",
     "text": [
      "name Alice\n",
      "age 25\n"
     ]
    }
   ],
   "source": [
    "# Better: use .items()\n",
    "for key, value in person.items():\n",
    "    print(key, value)"
   ]
  },
  {
   "cell_type": "markdown",
   "id": "3f83ca28-c422-4dcc-b436-0cebde15b5ac",
   "metadata": {},
   "source": [
    "## 🔄 Nested `for` Loop"
   ]
  },
  {
   "cell_type": "code",
   "execution_count": 96,
   "id": "41ce1389-818e-4e62-9c0b-4e68783d6624",
   "metadata": {},
   "outputs": [
    {
     "name": "stdout",
     "output_type": "stream",
     "text": [
      "0 0\n",
      "0 1\n",
      "1 0\n",
      "1 1\n",
      "2 0\n",
      "2 1\n"
     ]
    }
   ],
   "source": [
    "for i in range(3):\n",
    "    for j in range(2):\n",
    "        print(i, j)"
   ]
  },
  {
   "cell_type": "markdown",
   "id": "e7290693-3cf3-4bca-87a5-8a3e22d1f80e",
   "metadata": {},
   "source": [
    "## 📦 Loop Over a Tuple"
   ]
  },
  {
   "cell_type": "code",
   "execution_count": 98,
   "id": "8ad65767-2dbf-4dcd-9e9b-69afefa2c91b",
   "metadata": {},
   "outputs": [
    {
     "name": "stdout",
     "output_type": "stream",
     "text": [
      "1\n",
      "2\n",
      "3\n"
     ]
    }
   ],
   "source": [
    "coords = (1, 2, 3)\n",
    "for c in coords:\n",
    "    print(c)"
   ]
  },
  {
   "cell_type": "markdown",
   "id": "e005edfc-0236-4af9-b192-46e3f74c4a30",
   "metadata": {},
   "source": [
    "## 🧹 Loop Over a Set (Unordered, Unique Items)"
   ]
  },
  {
   "cell_type": "code",
   "execution_count": 100,
   "id": "a602ada1-1c4f-4e85-b363-177fc5a6768f",
   "metadata": {},
   "outputs": [
    {
     "name": "stdout",
     "output_type": "stream",
     "text": [
      "b\n",
      "a\n",
      "c\n"
     ]
    }
   ],
   "source": [
    "items = {\"a\", \"b\", \"c\"}\n",
    "for item in items:\n",
    "    print(item)"
   ]
  },
  {
   "cell_type": "markdown",
   "id": "c2efcdd7-7f84-4e98-bb44-a440bb9ffea0",
   "metadata": {},
   "source": [
    "## 🗂️ Loop with List Comprehension (One-liner)"
   ]
  },
  {
   "cell_type": "code",
   "execution_count": 105,
   "id": "40dbd323-99a6-47da-84d6-485486d8be88",
   "metadata": {},
   "outputs": [
    {
     "name": "stdout",
     "output_type": "stream",
     "text": [
      "[0, 1, 4, 9, 16]\n"
     ]
    }
   ],
   "source": [
    "squares = [x**2 for x in range(5)]\n",
    "print(squares)"
   ]
  },
  {
   "cell_type": "markdown",
   "id": "06e75d47-1c89-462d-b8f7-5e892ea6710f",
   "metadata": {},
   "source": [
    "## 🔄 `for` with `else`"
   ]
  },
  {
   "cell_type": "code",
   "execution_count": 107,
   "id": "ccc63ed4-44dc-4c9f-ac3a-d1f485801d87",
   "metadata": {},
   "outputs": [
    {
     "name": "stdout",
     "output_type": "stream",
     "text": [
      "0\n",
      "1\n",
      "2\n",
      "3\n",
      "4\n",
      "Loop completed!\n"
     ]
    }
   ],
   "source": [
    "for i in range(5):\n",
    "    print(i)\n",
    "else:\n",
    "    print(\"Loop completed!\")"
   ]
  },
  {
   "cell_type": "markdown",
   "id": "25b54dda-6fc8-4c8a-a40a-90250907e314",
   "metadata": {},
   "source": [
    "> `else` runs **only if the loop wasn't broken by `break`**."
   ]
  },
  {
   "cell_type": "code",
   "execution_count": 113,
   "id": "606f5e58-2144-430b-8fad-b5766856437d",
   "metadata": {},
   "outputs": [
    {
     "name": "stdout",
     "output_type": "stream",
     "text": [
      "Checking 0\n",
      "Checking 1\n",
      "Checking 2\n",
      "Checking 3\n",
      "Breaking the loop!\n"
     ]
    }
   ],
   "source": [
    "for i in range(5):\n",
    "    print(f\"Checking {i}\")\n",
    "    if i == 3:\n",
    "        print(\"Breaking the loop!\")\n",
    "        break\n",
    "        #continue\n",
    "else:\n",
    "    print(\"Loop completed without break.\")"
   ]
  },
  {
   "cell_type": "markdown",
   "id": "f69710fe-ee55-454b-b7b4-1b297c4e30e8",
   "metadata": {},
   "source": [
    "## ⛔ With `break` and `continue`"
   ]
  },
  {
   "cell_type": "code",
   "execution_count": 115,
   "id": "b17febb7-3385-4bb8-9f94-4c18a52fcb98",
   "metadata": {},
   "outputs": [
    {
     "name": "stdout",
     "output_type": "stream",
     "text": [
      "0\n",
      "1\n",
      "2\n"
     ]
    }
   ],
   "source": [
    "for i in range(5):\n",
    "    if i == 3:\n",
    "        break   # stops loop\n",
    "    print(i)"
   ]
  },
  {
   "cell_type": "code",
   "execution_count": 117,
   "id": "1b4a79f0-bf5e-432a-ab65-c800d2225bbd",
   "metadata": {},
   "outputs": [
    {
     "name": "stdout",
     "output_type": "stream",
     "text": [
      "0\n",
      "1\n",
      "3\n",
      "4\n"
     ]
    }
   ],
   "source": [
    "for i in range(5):\n",
    "    if i == 2:\n",
    "        continue  # skips 2\n",
    "    print(i)"
   ]
  },
  {
   "cell_type": "markdown",
   "id": "a5f1f6ef-8876-4c4e-aa50-a5c4e919d88f",
   "metadata": {},
   "source": [
    "## 🧠 Summary\n",
    "\n",
    "| Use Case                    | Example                            |\n",
    "|-----------------------------|-------------------------------------|\n",
    "| List                       | `for x in [1,2,3]:`                |\n",
    "| String                     | `for c in \"abc\":`                  |\n",
    "| Dictionary                 | `for k, v in dict.items():`        |\n",
    "| `range()`                  | `for i in range(5):`               |\n",
    "| Index + Value              | `for i, val in enumerate(lst):`    |\n",
    "| Nested Loop                | `for x in a: for y in b:`          |\n",
    "| List Comprehension         | `[x for x in range(5)]`            |\n",
    "| `for...else`               | `for x in lst: ... else:`          |\n",
    "| With `break`, `continue`   | Custom control of loop flow        |\n"
   ]
  },
  {
   "cell_type": "markdown",
   "id": "7b25e5dd-7feb-48f0-a83d-4e6828251a4f",
   "metadata": {},
   "source": [
    "# 🔁 Converting a `for` Loop to a `while` Loop in Python\n",
    "\n",
    "Python's `for` loops are great for iterating over sequences or ranges. But any `for` loop can be rewritten using a `while` loop — you just need to manage the **loop variable**, **condition**, and **updates** manually.\n",
    "\n",
    "---\n",
    "\n",
    "## 🧪 Example 1: Using `range()`\n",
    "\n",
    "### ✅ `for` version:"
   ]
  },
  {
   "cell_type": "code",
   "execution_count": 119,
   "id": "f1a1fe7c-bc63-422b-b4d9-76e5a3a63903",
   "metadata": {},
   "outputs": [
    {
     "name": "stdout",
     "output_type": "stream",
     "text": [
      "0\n",
      "1\n",
      "2\n",
      "3\n",
      "4\n"
     ]
    }
   ],
   "source": [
    "\n",
    "for i in range(5):\n",
    "    print(i)\n"
   ]
  },
  {
   "cell_type": "markdown",
   "id": "dcb57af6-5734-4426-ad19-9f81802e7331",
   "metadata": {},
   "source": [
    "### 🔁 `while` version:"
   ]
  },
  {
   "cell_type": "code",
   "execution_count": 121,
   "id": "e26dbfd7-3588-4ae6-9d8f-f00f17c66330",
   "metadata": {},
   "outputs": [
    {
     "name": "stdout",
     "output_type": "stream",
     "text": [
      "0\n",
      "1\n",
      "2\n",
      "3\n",
      "4\n"
     ]
    }
   ],
   "source": [
    "i = 0\n",
    "while i < 5:\n",
    "    print(i)\n",
    "    i += 1"
   ]
  },
  {
   "cell_type": "markdown",
   "id": "bb68375f-93f4-419f-bc73-580a6c7e8eea",
   "metadata": {},
   "source": [
    "## 🧪 Example 2: Looping Over a List\n",
    "\n",
    "### ✅ `for` version:"
   ]
  },
  {
   "cell_type": "code",
   "execution_count": 123,
   "id": "9386ae80-3c96-4cd3-a0a4-97606f75489d",
   "metadata": {},
   "outputs": [
    {
     "name": "stdout",
     "output_type": "stream",
     "text": [
      "apple\n",
      "banana\n",
      "cherry\n"
     ]
    }
   ],
   "source": [
    "fruits = [\"apple\", \"banana\", \"cherry\"]\n",
    "for fruit in fruits:\n",
    "    print(fruit)"
   ]
  },
  {
   "cell_type": "markdown",
   "id": "18eda87d-9471-4743-b9b1-7582f63ca2e9",
   "metadata": {},
   "source": [
    "### 🔁 `while` version:"
   ]
  },
  {
   "cell_type": "code",
   "execution_count": 125,
   "id": "f5fcabc7-2952-4eb4-b6e6-acfd564d9576",
   "metadata": {},
   "outputs": [
    {
     "name": "stdout",
     "output_type": "stream",
     "text": [
      "apple\n",
      "banana\n",
      "cherry\n"
     ]
    }
   ],
   "source": [
    "fruits = [\"apple\", \"banana\", \"cherry\"]\n",
    "i = 0\n",
    "while i < len(fruits):\n",
    "    print(fruits[i])\n",
    "    i += 1"
   ]
  },
  {
   "cell_type": "markdown",
   "id": "9080f2c7-6e9c-448e-873c-f822c686990b",
   "metadata": {},
   "source": [
    "## 🧪 Example 3: `for` with `break`\n",
    "\n",
    "### ✅ `for` version:"
   ]
  },
  {
   "cell_type": "code",
   "execution_count": 127,
   "id": "34d17e61-b3fa-46c5-a7a8-90fde841550d",
   "metadata": {},
   "outputs": [
    {
     "name": "stdout",
     "output_type": "stream",
     "text": [
      "0\n",
      "1\n",
      "2\n"
     ]
    }
   ],
   "source": [
    "for i in range(5):\n",
    "    if i == 3:\n",
    "        break\n",
    "    print(i)"
   ]
  },
  {
   "cell_type": "markdown",
   "id": "a9e869e3-52d3-43e1-bbfa-bceb116b5aaf",
   "metadata": {},
   "source": [
    "### 🔁 `while` version:"
   ]
  },
  {
   "cell_type": "code",
   "execution_count": 129,
   "id": "1a7ea4de-2fd1-4e1c-99db-59b54d630899",
   "metadata": {},
   "outputs": [
    {
     "name": "stdout",
     "output_type": "stream",
     "text": [
      "0\n",
      "1\n",
      "2\n"
     ]
    }
   ],
   "source": [
    "i = 0\n",
    "while i < 5:\n",
    "    if i == 3:\n",
    "        break\n",
    "    print(i)\n",
    "    i += 1"
   ]
  },
  {
   "cell_type": "markdown",
   "id": "8815f689-d2fe-476e-983d-2e7ac5c29861",
   "metadata": {},
   "source": [
    "## 💡 Tips for Converting `for` ➡️ `while`\n",
    "\n",
    "| Aspect             | `for` Loop                      | `while` Loop                        |\n",
    "|--------------------|----------------------------------|--------------------------------------|\n",
    "| Initialization     | Implicit (inside `range()`)     | You must do it manually              |\n",
    "| Condition          | Built into `range()` or iterable| Must write explicitly (`i < n`)      |\n",
    "| Update             | Implicit in `for`               | Must do manually (`i += 1`)          |\n",
    "| Indexing (lists)   | Implicit in `for item in list`  | Use `list[i]` with manual counter    |\n",
    "\n",
    "\n",
    "# 🔁 `do...while` in Python? Let's Talk About It\n",
    "\n",
    "Python **does not have** a built-in `do...while` loop like some other languages (e.g., C, C++, JavaScript). But the idea can still be mimicked using a `while` loop.\n",
    "\n",
    "## ❓ What is `do...while`?\n",
    "\n",
    "In many languages, `do...while` runs the **loop body first**, and **then checks the condition**.\n",
    "\n",
    "### Example in C-style syntax:\n",
    "```c\n",
    "do {\n",
    "    // code runs at least once\n",
    "} while (condition);\n",
    "```\n",
    "\n",
    "---\n",
    "\n",
    "## 🔁 Mimicking `do...while` in Python\n",
    "\n",
    "You can simulate this behavior by using a `while` loop with a condition that is **initially True**, then breaking out when needed.\n",
    "\n",
    "### ✅ Python Example:"
   ]
  },
  {
   "cell_type": "code",
   "execution_count": null,
   "id": "6511466b-22cd-4a01-a5ab-67e5f4d4eee6",
   "metadata": {},
   "outputs": [],
   "source": [
    "while True:\n",
    "    user_input = input(\"Enter something (q to quit): \")\n",
    "    if user_input == 'q':\n",
    "        break\n",
    "    print(\"You typed:\", user_input)"
   ]
  },
  {
   "cell_type": "markdown",
   "id": "d28477d2-b368-4e43-8c34-c9e02b1e22d4",
   "metadata": {},
   "source": [
    "🔹 This runs the loop **at least once**, just like a `do...while`.\n",
    "\n",
    "---\n",
    "\n",
    "## 🤷 Why Python Doesn’t Have `do...while`\n",
    "\n",
    "- Python favors **clarity and simplicity**.\n",
    "- You can achieve the same behavior with a regular `while True` + `break`.\n",
    "- Adding a special loop type for a rare case would go against Python's \"one obvious way to do it\" philosophy (Zen of Python).\n",
    "\n",
    "---\n",
    "\n",
    "## 🧠 When to Use This Pattern\n",
    "\n",
    "- When the loop must **run at least once** (e.g., user input, menu systems)\n",
    "- When using `while` feels a bit awkward but still works\n",
    "\n",
    "\n",
    "\n",
    "| Feature             | `do...while`         | Python Equivalent                  |\n",
    "|---------------------|----------------------|-------------------------------------|\n",
    "| Body runs first     | ✅                   | ✅ with `while True`                |\n",
    "| Condition after body| ✅                   | ✅ using `break` inside             |\n",
    "| Built-in Syntax     | ✅ in other languages| ❌ (no `do...while` in Python)      |\n",
    "\n",
    "\n",
    "\n",
    "So while Python doesn’t *officially* have `do...while`, you can still use the same logic easily! 🔁🐍"
   ]
  },
  {
   "cell_type": "markdown",
   "id": "d4c29771-6001-4562-ba19-80f8b56b9617",
   "metadata": {},
   "source": [
    "## 🧠 Key Concepts Recap\n",
    "\n",
    "| Concept          | Description |\n",
    "|------------------|-------------|\n",
    "| `if`, `elif`, `else` | For decision-making based on conditions |\n",
    "| `for` loop        | Use when you know how many times to repeat |\n",
    "| `while` loop      | Use when repetition depends on a condition |\n"
   ]
  },
  {
   "cell_type": "markdown",
   "id": "3608c4fc-aaf4-4a9d-8c37-72a3718e2316",
   "metadata": {},
   "source": [
    "## 🔸 1. **Comparison Operators**  \n",
    "(*==, !=, <, >, <=, >=*)\n",
    "\n",
    "### 🧠 Concept:\n",
    "These are used to compare values and return `True` or `False`.\n",
    "\n",
    "### 🎬 Story: *John’s Gym Entry Check*\n",
    "\n",
    "> John arrives at the gym and checks his body temperature. If it’s **equal to** 98.6°F, he’s good to go. If it’s **higher than 100°F**, he decides to skip the workout. If it’s **less than 98°F**, he puts on a hoodie and proceeds cautiously.\n"
   ]
  },
  {
   "cell_type": "code",
   "execution_count": 135,
   "id": "02bac223-3020-40b2-ac8c-46d683fc3726",
   "metadata": {},
   "outputs": [
    {
     "name": "stdout",
     "output_type": "stream",
     "text": [
      "Enter your body temperature in Fahrenheit:  100\n"
     ]
    },
    {
     "name": "stdout",
     "output_type": "stream",
     "text": [
      "Go to gym\n"
     ]
    }
   ],
   "source": [
    "temperature = float(input(\"Enter your body temperature in Fahrenheit: \"))\n",
    "\n",
    "if temperature == 98.6:\n",
    "    print(\"You're in perfect shape! Hit the gym!\")\n",
    "elif temperature > 100:\n",
    "    print(\"You might have a fever. Skip the workout today.\")\n",
    "elif temperature < 98:\n",
    "    print(\"It’s a bit low. Put on a hoodie and proceed with caution.\")\n",
    "else:\n",
    "    print(\"Go to gym\")\n",
    "    \n"
   ]
  },
  {
   "cell_type": "markdown",
   "id": "5f896f78-79b5-49a6-be0e-fc59986a9204",
   "metadata": {},
   "source": [
    "```\n",
    "  |-- |----         |        ------|\n",
    "<98  98.6        <100>             100+  \n",
    "```\n",
    "\n",
    "- `==` to compare equality\n",
    "- `>` and `<` for thresholds\n",
    "- Chain of conditions using `elif`\n",
    "\n",
    "---\n",
    "\n",
    "## 🔸 2. **Logical Operators**  \n",
    "(*and, or, not*)\n",
    "\n",
    "### 🧠 Concept:\n",
    "Used to combine multiple Boolean conditions.\n",
    "\n",
    "### 🎬 Story: *John’s Weather + Mood Check*\n",
    "\n",
    "> Before heading out, John asks:\n",
    "> - Is it cold **and** raining? He’ll take a cab.\n",
    "> - Is it cold **or** he’s feeling lazy? He’ll skip the park walk.\n",
    "> - If it's **not** raining, he might consider walking.\n",
    "\n"
   ]
  },
  {
   "cell_type": "code",
   "execution_count": 140,
   "id": "5c33d2d7-4f8b-45ff-a9fa-88691be41587",
   "metadata": {},
   "outputs": [
    {
     "name": "stdout",
     "output_type": "stream",
     "text": [
      "Is it cold? (yes/no):  yes\n",
      "Is it raining? (yes/no):  \n",
      "Are you feeling lazy? (yes/no):  \n"
     ]
    },
    {
     "name": "stdout",
     "output_type": "stream",
     "text": [
      "<class 'bool'>\n",
      "True\n",
      "Maybe skip the walk today.\n"
     ]
    }
   ],
   "source": [
    "is_cold = input(\"Is it cold? (yes/no): \") == \"yes\" \n",
    "is_raining = input(\"Is it raining? (yes/no): \") == \"yes\"\n",
    "is_lazy = input(\"Are you feeling lazy? (yes/no): \") == \"yes\"\n",
    "\n",
    "# print(type(is_cold))\n",
    "# print(is_cold)\n",
    "\n",
    "if is_cold and is_raining:\n",
    "    print(\"Take a cab today.\")\n",
    "elif is_cold or is_lazy:\n",
    "    print(\"Maybe skip the walk today.\")\n",
    "elif not is_raining:\n",
    "    print(\"Looks good! Go for a walk.\")\n"
   ]
  },
  {
   "cell_type": "markdown",
   "id": "ee0f33a8-eb09-4bae-9f69-b34f50316e9a",
   "metadata": {},
   "source": [
    "## 🔸 3. **Nested Conditionals**\n",
    "\n",
    "### 🧠 Concept:\n",
    "`if` statements inside other `if` blocks.\n",
    "\n",
    "### 🎬 Story: *John Deciding Breakfast Based on Diet Plan*\n",
    "\n",
    "> John is on a low-carb diet.  \n",
    "> - If he’s following his diet today:  \n",
    ">   - If it's Sunday, he has a cheat day: eat pancakes.  \n",
    ">   - Else, just have eggs.  \n",
    "> - If he’s not dieting, he eats whatever he wants.\n"
   ]
  },
  {
   "cell_type": "code",
   "execution_count": null,
   "id": "acbc326b-7cf8-4b82-bd00-83885d8f9206",
   "metadata": {},
   "outputs": [],
   "source": [
    "on_diet = input(\"Are you on a diet today? (yes/no): \") == \"yes\"\n",
    "day = input(\"What day is it today?: \")\n",
    "\n",
    "if on_diet:\n",
    "    if day.lower() == \"sunday\":\n",
    "        print(\"Cheat day! Enjoy your pancakes.\")\n",
    "    else:\n",
    "        print(\"Stick to eggs today.\")\n",
    "else:\n",
    "    print(\"Eat anything you like!\")\n"
   ]
  },
  {
   "cell_type": "markdown",
   "id": "9240aced-ae91-49f9-bf15-0f7fa46755a5",
   "metadata": {},
   "source": [
    "## 🔸 4. **`break` and `continue` in Loops**\n",
    "\n",
    "### 🧠 Concept:\n",
    "- `break` exits the loop early\n",
    "- `continue` skips current iteration but keeps looping\n",
    "\n",
    "### 🎬 Story: *John Walking Until He Finds the Ice Cream Truck*\n",
    "\n",
    "> John takes a walk around the block up to 10 times.  \n",
    "> - If he hears the ice cream truck, he stops (`break`).  \n",
    "> - If it's raining during a round, he skips that round (`continue`) and runs under shelter.\n",
    "\n"
   ]
  },
  {
   "cell_type": "code",
   "execution_count": 144,
   "id": "79861163-c529-45f0-9e30-fd31268b9c7c",
   "metadata": {},
   "outputs": [
    {
     "name": "stdout",
     "output_type": "stream",
     "text": [
      "Round 1 started.\n"
     ]
    },
    {
     "name": "stdout",
     "output_type": "stream",
     "text": [
      "Is it raining? (yes/no):  yes\n"
     ]
    },
    {
     "name": "stdout",
     "output_type": "stream",
     "text": [
      "It's raining, skipping this round.\n",
      "Round 2 started.\n"
     ]
    },
    {
     "name": "stdout",
     "output_type": "stream",
     "text": [
      "Is it raining? (yes/no):  yes\n"
     ]
    },
    {
     "name": "stdout",
     "output_type": "stream",
     "text": [
      "It's raining, skipping this round.\n",
      "Round 3 started.\n"
     ]
    },
    {
     "name": "stdout",
     "output_type": "stream",
     "text": [
      "Is it raining? (yes/no):  no\n",
      "Do you hear the ice cream truck? (yes/no):  yes\n"
     ]
    },
    {
     "name": "stdout",
     "output_type": "stream",
     "text": [
      "Yay! Ice cream truck found. Stopping walk.\n"
     ]
    }
   ],
   "source": [
    "for round in range(1, 11):\n",
    "    print(f\"Round {round} started.\")\n",
    "    raining = input(\"Is it raining? (yes/no): \") == \"yes\"\n",
    "    if raining:\n",
    "        print(\"It's raining, skipping this round.\")\n",
    "        continue\n",
    "\n",
    "    truck_heard = input(\"Do you hear the ice cream truck? (yes/no): \") == \"yes\"\n",
    "    if truck_heard:\n",
    "        print(\"Yay! Ice cream truck found. Stopping walk.\")\n",
    "        break\n",
    "\n",
    "    print(f\"Finished round {round}.\")\n"
   ]
  },
  {
   "cell_type": "markdown",
   "id": "f5083a4e-569f-42fd-acf6-b6925a803110",
   "metadata": {},
   "source": [
    "- Using `break` for early exit\n",
    "- Using `continue` to skip specific logic in a loop\n",
    "\n",
    "\n",
    "## 🔸 5. **Input Validation**\n",
    "\n",
    "### 🧠 Concept:\n",
    "Always check that user input is valid before processing.\n"
   ]
  },
  {
   "cell_type": "code",
   "execution_count": 168,
   "id": "19a7d1f1-438e-4560-aa8b-b2ae9d1d7797",
   "metadata": {},
   "outputs": [
    {
     "name": "stdout",
     "output_type": "stream",
     "text": [
      "Enter temperature in Celsius:  23\n"
     ]
    },
    {
     "name": "stdout",
     "output_type": "stream",
     "text": [
      "Temperature in Fahrenheit: 73.4\n"
     ]
    }
   ],
   "source": [
    "# celsius_input = float(input(\"Enter temperature in Celsius: \"))\n",
    "# print(type(celsius_input))\n",
    "# celsius_input\n",
    "celsius_input = input(\"Enter temperature in Celsius: \")\n",
    "if celsius_input.replace('.', '', 1).isdigit():\n",
    "    celsius = float(celsius_input)\n",
    "    fahrenheit = celsius * 1.8 + 32\n",
    "    print(\"Temperature in Fahrenheit: %.1f\" % fahrenheit)\n",
    "else:\n",
    "    print(\"Invalid input! Please enter a number.\")\n"
   ]
  },
  {
   "cell_type": "markdown",
   "id": "65c8c716-cdfc-4895-9137-bc712382b2b3",
   "metadata": {},
   "source": [
    "### 🧠 Note: Why Not Use `.isfloat()` in Python?\n",
    "\n",
    "#### 🔹 Common Question:\n",
    "> \"Why not just use `isfloat()` to check if a string is a valid float?\"\n",
    "\n",
    "#### ❌ The Issue:\n",
    "Python **does not have a built-in** `.isfloat()` method for strings like it does with `.isdigit()`.\n",
    "\n",
    "So this won't work:\n",
    "```python\n",
    "\"23.5\".isfloat()  # ❌ AttributeError\n",
    "```\n",
    "\n",
    "---\n",
    "\n",
    "### ✅ The Alternative: Use `try/except` with `float()`\n",
    "\n",
    "Since there's no `.isfloat()` method, the most reliable way to check if a string is a float is by attempting to convert it:\n",
    "\n",
    "```python\n",
    "def isfloat(value):\n",
    "    try:\n",
    "        float(value)\n",
    "        return True\n",
    "    except ValueError:\n",
    "        return False\n",
    "```\n",
    "\n",
    "#### 🔍 Why this works:\n",
    "- ✔ Recognizes valid floats like `\"23.5\"`, `\"0.0\"`, `\"-7.1\"`\n",
    "- ✔ Accepts scientific notation like `\"1e3\"`\n",
    "- ❌ Rejects invalid strings like `\"23.5.1\"` or `\"abc\"`\n",
    "\n",
    "---\n",
    "\n",
    "### 🛠️ What's this line doing?\n",
    "\n",
    "```python\n",
    "celsius_input.replace('.', '', 1).isdigit()\n",
    "```\n",
    "\n",
    "#### It tries to simulate float checking:\n",
    "- Removes **one dot** (e.g., `\"23.5\"` → `\"235\"`)\n",
    "- Checks if the result is all digits\n",
    "- ✅ Works for basic cases like `\"23.5\"`\n",
    "- ❌ Fails for:\n",
    "  - Negative numbers (`\"-3.5\"`)\n",
    "  - Scientific notation (`\"1e3\"`)\n",
    "  - Multiple dots (`\"12.3.4\"`)\n",
    "\n",
    "---\n",
    "\n",
    "### ✅ Best Practice:\n",
    "If you need to check whether a string is a float — **reliably** and **safely** — define and use an `isfloat()` function with `try/except`."
   ]
  },
  {
   "cell_type": "markdown",
   "id": "e35913ce-5c80-42bc-bd58-62de7666f7fb",
   "metadata": {},
   "source": [
    "## 🌿 **Branching Statements in Python**\n",
    "\n",
    "Welcome to the session on **branching statements**!  \n",
    "After completing this module, you will be able to:\n",
    "- Distinguish between various conditional statements\n",
    "- Choose when to use nested conditional statements\n",
    "- Express conditional logic using logical operators\n",
    "\n",
    "### 🧩 What Are Conditional Statements?\n",
    "\n",
    "Conditional statements form the **building blocks** of any programming language.  \n",
    "They are used to **test assumptions or compare values** to decide what action should be taken.\n",
    "\n",
    "Python uses **indentation** to determine the scope of code blocks, just like loops.\n",
    "\n",
    "---\n",
    "\n",
    "### ✅ Basic `if` Statement\n",
    "\n",
    "The basic syntax involves using the `if` keyword with a logical comparison:"
   ]
  },
  {
   "cell_type": "code",
   "execution_count": null,
   "id": "f3fdb95c-aecf-4498-915d-11871ae732a5",
   "metadata": {},
   "outputs": [],
   "source": [
    "x = 5\n",
    "if x == 5:\n",
    "    print(\"x is 5\")"
   ]
  },
  {
   "cell_type": "markdown",
   "id": "6cb9a870-f57a-439a-9fd3-68ac2d7d3a86",
   "metadata": {},
   "source": [
    "If the condition evaluates to `True`, the indented code block is executed.  \n",
    "Otherwise, it is skipped.\n",
    "\n",
    "---\n",
    "\n",
    "### ❗ `else` Block\n",
    "\n",
    "To handle the scenario when the condition fails, we can use an `else` block:\n"
   ]
  },
  {
   "cell_type": "code",
   "execution_count": null,
   "id": "9c39ea43-23fa-4289-9e0b-73998b6f9654",
   "metadata": {
    "scrolled": true
   },
   "outputs": [],
   "source": [
    "x = 3\n",
    "if x == 1:\n",
    "    print(\"x is 1\")\n",
    "else:\n",
    "    print(\"x is not 1\")"
   ]
  },
  {
   "cell_type": "markdown",
   "id": "b5879067-b942-4541-8db5-2b3185821309",
   "metadata": {},
   "source": [
    "You can also write an `if` statement **without an `else`**, if there's nothing to do when the condition fails.\n",
    "\n",
    "---\n",
    "\n",
    "### 🔁 Nested Conditionals\n",
    "\n",
    "You can **nest `if` statements** inside one another:"
   ]
  },
  {
   "cell_type": "code",
   "execution_count": 170,
   "id": "102133d7-d15d-4ec7-b1ad-8d95fbd23d0a",
   "metadata": {},
   "outputs": [
    {
     "name": "stdout",
     "output_type": "stream",
     "text": [
      "x is between 5 and 15\n"
     ]
    }
   ],
   "source": [
    "x = 10\n",
    "if x > 5:\n",
    "    if x < 15:\n",
    "        print(\"x is between 5 and 15\")"
   ]
  },
  {
   "cell_type": "markdown",
   "id": "a4607b44-9ae3-49c2-ae85-e3c6dba15d73",
   "metadata": {},
   "source": [
    "It’s not mandatory to pair every `if` with an `else`.\n",
    "\n",
    "---\n",
    "\n",
    "### 🌟 Single-Line Conditional (Ternary Operator)\n",
    "\n",
    "For compact conditions:"
   ]
  },
  {
   "cell_type": "code",
   "execution_count": 182,
   "id": "8d2d173e-0bf1-404d-a9cf-a37cde171ae7",
   "metadata": {},
   "outputs": [
    {
     "name": "stdout",
     "output_type": "stream",
     "text": [
      "<class 'str'>\n",
      "No\n"
     ]
    }
   ],
   "source": [
    "x=4\n",
    "result = \"Yes\" if x > 5 else \"No\"\n",
    "print(type(result))\n",
    "print(result)"
   ]
  },
  {
   "cell_type": "markdown",
   "id": "8d862941-a5fc-460c-98a4-07aaad00a9e1",
   "metadata": {},
   "source": [
    "---\n",
    "\n",
    "### 🧠 Using `elif` for Multiple Conditions\n",
    "\n",
    "To check **more than one condition**:"
   ]
  },
  {
   "cell_type": "code",
   "execution_count": null,
   "id": "54802f5a-5e53-4496-8e7b-414d07127199",
   "metadata": {},
   "outputs": [],
   "source": [
    "if x > y:\n",
    "    print(\"x is greater\")\n",
    "elif x < y:\n",
    "    print(\"x is smaller\")\n",
    "else:\n",
    "    print(\"x and y are equal\")"
   ]
  },
  {
   "cell_type": "markdown",
   "id": "4dd0d2c8-8ea6-4ccc-8c94-a3e056b9258e",
   "metadata": {},
   "source": [
    "You can have **multiple `elif` blocks**, but only **one `else`** at the end.\n",
    "\n",
    "---\n",
    "\n",
    "### 🔗 Logical Operators in Conditions\n",
    "\n",
    "To combine multiple comparisons:"
   ]
  },
  {
   "cell_type": "code",
   "execution_count": null,
   "id": "cc918cf7-302d-4bc4-95a8-0a7a97b548c1",
   "metadata": {},
   "outputs": [],
   "source": [
    "if (x > 5) and (y > 5):\n",
    "    print(\"Both are greater than 5\")\n",
    "elif (x > 5) or (y > 5):\n",
    "    print(\"At least one is greater than 5\")\n",
    "else:\n",
    "    print(\"Neither is greater than 5\")"
   ]
  },
  {
   "cell_type": "markdown",
   "id": "aef10eeb-d61d-4e19-9430-31fbdb16445d",
   "metadata": {},
   "source": [
    "Use `and`, `or`, and `not` for logical operations.\n",
    "\n",
    "---\n",
    "\n",
    "### 🧪 Example"
   ]
  },
  {
   "cell_type": "code",
   "execution_count": null,
   "id": "e722de09-a529-405a-9455-d8e6fa03c701",
   "metadata": {},
   "outputs": [],
   "source": [
    "x = 7.5\n",
    "y = \"Hello\"\n",
    "\n",
    "if isinstance(x, float) and isinstance(y, float):\n",
    "    print(\"Compare floats\")\n",
    "elif isinstance(x, str) and isinstance(y, str):\n",
    "    print(\"Concatenate strings\")\n",
    "else:\n",
    "    print(\"Mismatch in types\")"
   ]
  },
  {
   "cell_type": "markdown",
   "id": "b69ba111-30b9-491c-a0d8-7b108117ceb1",
   "metadata": {},
   "source": [
    "## The Ternary Operator (Conditional Expression)\n",
    "\n",
    "The ternary operator is a shorthand way to write an `if-else` statement. It is used to return one of two values based on a condition.\n",
    "\n",
    "### Syntax:\n",
    "```python\n",
    "value_if_true if condition else value_if_false\n",
    "```\n",
    "\n",
    "### Example:"
   ]
  },
  {
   "cell_type": "code",
   "execution_count": 184,
   "id": "8bf9a9b5-4985-4b28-90cb-7fcb82143b84",
   "metadata": {},
   "outputs": [
    {
     "name": "stdout",
     "output_type": "stream",
     "text": [
      "Greater than 5\n"
     ]
    }
   ],
   "source": [
    "x = 10\n",
    "result = \"Greater than 5\" if x > 5 else \"Less than or equal to 5\"\n",
    "print(result)"
   ]
  },
  {
   "cell_type": "markdown",
   "id": "89653996-2ee9-4dc8-a688-4be4e38da16b",
   "metadata": {},
   "source": [
    "### Explanation:\n",
    "- If the condition `x > 5` is `True`, the value `\"Greater than 5\"` is assigned to `result`.\n",
    "- If the condition is `False`, `\"Less than or equal to 5\"` is assigned to `result`.\n",
    "\n",
    "### Another Example:"
   ]
  },
  {
   "cell_type": "code",
   "execution_count": 186,
   "id": "907af359-667d-4f8c-bba3-99490e6f293c",
   "metadata": {},
   "outputs": [
    {
     "name": "stdout",
     "output_type": "stream",
     "text": [
      "Positive\n"
     ]
    }
   ],
   "source": [
    "x = 3\n",
    "result = \"Positive\" if x > 0 else \"Non-positive\"\n",
    "print(result)"
   ]
  },
  {
   "cell_type": "markdown",
   "id": "80c2eeb0-ee80-4e50-b2a2-d62945c58442",
   "metadata": {},
   "source": [
    "### Explanation:\n",
    "- If `x > 0` is `True`, `result` will be `\"Positive\"`, otherwise it will be `\"Non-positive\"`.\n",
    "\n",
    "## Multiple Conditions with Ternary Operator\n",
    "\n",
    "You can also chain ternary operators to handle more than two conditions.\n",
    "\n",
    "### Syntax:\n",
    "```python\n",
    "value_if_true if condition else value_if_false if condition2 else value_if_false2\n",
    "```\n",
    "\n",
    "### Example:"
   ]
  },
  {
   "cell_type": "code",
   "execution_count": 188,
   "id": "c6d2d7aa-6045-457b-b47e-4980a78aebee",
   "metadata": {},
   "outputs": [
    {
     "name": "stdout",
     "output_type": "stream",
     "text": [
      "Greater than 0\n"
     ]
    }
   ],
   "source": [
    "x = 5\n",
    "result = \"Greater than 10\" if x > 10 else \"Greater than 0\" if x > 0 else \"Less than or equal to 0\"\n",
    "print(result)"
   ]
  },
  {
   "cell_type": "markdown",
   "id": "2292ff8d-39dd-43ca-af28-8bc9ae2694a2",
   "metadata": {},
   "source": [
    "### Explanation:\n",
    "- The first condition checks if `x > 10`, and if `False`, it checks the second condition (`x > 0`).\n",
    "- Depending on which condition is `True`, the corresponding value is returned.\n",
    "\n",
    "## Summary\n",
    "\n",
    "- **`if` statement**: Executes a block of code if a condition is `True`.\n",
    "- **`if-else` statement**: Executes one block of code if the condition is `True`, and another if it's `False`.\n",
    "- **`elif`**: Checks multiple conditions in sequence.\n",
    "- **Nested `if`**: Allows you to check conditions inside other conditions.\n",
    "- **Logical operators**: Use `and`, `or`, `not` to combine conditions.\n",
    "- **Ternary operator**: A shorthand for `if-else` that returns a value based on a condition.\n",
    "- **Multiple conditions with ternary operator**: Chain ternary operators to evaluate more than one condition."
   ]
  }
 ],
 "metadata": {
  "kernelspec": {
   "display_name": "Python 3",
   "language": "python",
   "name": "python3"
  },
  "language_info": {
   "codemirror_mode": {
    "name": "ipython",
    "version": 3
   },
   "file_extension": ".py",
   "mimetype": "text/x-python",
   "name": "python",
   "nbconvert_exporter": "python",
   "pygments_lexer": "ipython3",
   "version": "3.12.6"
  }
 },
 "nbformat": 4,
 "nbformat_minor": 5
}
